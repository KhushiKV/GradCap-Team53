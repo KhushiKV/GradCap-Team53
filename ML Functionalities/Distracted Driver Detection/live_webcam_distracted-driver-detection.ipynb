{
 "cells": [
  {
   "cell_type": "code",
   "execution_count": 1,
   "metadata": {
    "_cell_guid": "b1076dfc-b9ad-4769-8c92-a6c4dae69d19",
    "_uuid": "8f2839f25d086af736a60e9eeb907d3b93b6e0e5",
    "execution": {
     "iopub.execute_input": "2023-01-29T11:15:22.678641Z",
     "iopub.status.busy": "2023-01-29T11:15:22.677076Z",
     "iopub.status.idle": "2023-01-29T11:15:22.883955Z",
     "shell.execute_reply": "2023-01-29T11:15:22.882950Z",
     "shell.execute_reply.started": "2023-01-29T11:15:22.678574Z"
    }
   },
   "outputs": [],
   "source": [
    "import numpy as np \n",
    "import pandas as pd\n",
    "import matplotlib.pyplot as plt\n",
    "import os \n",
    "import cv2\n",
    "import glob\n",
    "\n",
    "import tensorflow as tf \n",
    "from tensorflow.keras.preprocessing.image import ImageDataGenerator \n",
    "from tensorflow.keras import Model \n",
    "from tensorflow.keras.layers import Input , GlobalAveragePooling2D , BatchNormalization , Dropout , Dense \n",
    "from tensorflow.keras.applications import EfficientNetB3 \n",
    "from tensorflow.keras.callbacks import ModelCheckpoint , EarlyStopping "
   ]
  },
  {
   "cell_type": "code",
   "execution_count": 2,
   "metadata": {
    "execution": {
     "iopub.execute_input": "2023-01-29T10:52:49.931523Z",
     "iopub.status.busy": "2023-01-29T10:52:49.931016Z",
     "iopub.status.idle": "2023-01-29T10:52:49.938278Z",
     "shell.execute_reply": "2023-01-29T10:52:49.936722Z",
     "shell.execute_reply.started": "2023-01-29T10:52:49.931488Z"
    }
   },
   "outputs": [],
   "source": [
    "# activity_map = {'c0': 'Safe driving', \n",
    "#                 'c1': 'Texting - right', \n",
    "#                 'c2': 'Talking on the phone - right', \n",
    "#                 'c3': 'Texting - left', \n",
    "#                 'c4': 'Talking on the phone - left', \n",
    "#                 'c5': 'Operating the radio', \n",
    "#                 'c6': 'Drinking', \n",
    "#                 'c7': 'Reaching behind', \n",
    "#                 'c8': 'Hair and makeup', \n",
    "#                 'c9': 'Talking to passenger'}"
   ]
  },
  {
   "cell_type": "markdown",
   "metadata": {},
   "source": [
    "## predictions"
   ]
  },
  {
   "cell_type": "code",
   "execution_count": 3,
   "metadata": {
    "execution": {
     "iopub.execute_input": "2023-01-29T10:20:15.252676Z",
     "iopub.status.busy": "2023-01-29T10:20:15.252195Z",
     "iopub.status.idle": "2023-01-29T10:20:23.016308Z",
     "shell.execute_reply": "2023-01-29T10:20:23.015156Z",
     "shell.execute_reply.started": "2023-01-29T10:20:15.252632Z"
    }
   },
   "outputs": [],
   "source": [
    "from tensorflow.keras.models import load_model\n",
    "model = load_model('./best_model.hdf5')"
   ]
  },
  {
   "cell_type": "code",
   "execution_count": 4,
   "metadata": {
    "execution": {
     "iopub.execute_input": "2023-01-29T11:57:46.976289Z",
     "iopub.status.busy": "2023-01-29T11:57:46.975860Z",
     "iopub.status.idle": "2023-01-29T11:57:47.086177Z",
     "shell.execute_reply": "2023-01-29T11:57:47.085346Z",
     "shell.execute_reply.started": "2023-01-29T11:57:46.976255Z"
    }
   },
   "outputs": [
    {
     "name": "stdout",
     "output_type": "stream",
     "text": [
      "Found 0 images belonging to 1 classes.\n"
     ]
    }
   ],
   "source": [
    "IMG_SIZE = (224,224)\n",
    "BATCH_SIZE = 64\n",
    "\n",
    "test_gen = ImageDataGenerator()\n",
    "\n",
    "predict_dir = './'\n",
    "predict_data = test_gen.flow_from_directory(predict_dir ,\n",
    "                                        target_size=IMG_SIZE,\n",
    "                                        batch_size=BATCH_SIZE,\n",
    "                                        classes = ['predict'],\n",
    "                                        shuffle = False)"
   ]
  },
  {
   "cell_type": "code",
   "execution_count": 5,
   "metadata": {
    "execution": {
     "iopub.execute_input": "2023-01-29T12:44:20.160209Z",
     "iopub.status.busy": "2023-01-29T12:44:20.159730Z",
     "iopub.status.idle": "2023-01-29T12:44:20.168968Z",
     "shell.execute_reply": "2023-01-29T12:44:20.167606Z",
     "shell.execute_reply.started": "2023-01-29T12:44:20.160173Z"
    }
   },
   "outputs": [],
   "source": [
    "def go_to_predict(i):\n",
    "    predict_data = test_gen.flow_from_directory(predict_dir ,\n",
    "                                        target_size=IMG_SIZE,\n",
    "                                        batch_size=BATCH_SIZE,\n",
    "                                        classes = ['predict'],\n",
    "                                        shuffle = False)\n",
    "    preds = model.predict(predict_data)\n",
    "    class_predicted = np.argmax(preds[0])\n",
    "    if(class_predicted == 1 or class_predicted == 2 or class_predicted ==5 or class_predicted ==3 or class_predicted ==7 or class_predicted ==9):\n",
    "            print('alertttt')\n",
    "    else:\n",
    "            print('safe')\n",
    "    os.remove('./predict/'+name)\n",
    "    "
   ]
  },
  {
   "cell_type": "markdown",
   "metadata": {},
   "source": [
    "## Video frames"
   ]
  },
  {
   "cell_type": "code",
   "execution_count": 6,
   "metadata": {
    "execution": {
     "iopub.execute_input": "2023-01-29T12:44:26.561324Z",
     "iopub.status.busy": "2023-01-29T12:44:26.560855Z",
     "iopub.status.idle": "2023-01-29T12:44:30.261616Z",
     "shell.execute_reply": "2023-01-29T12:44:30.260354Z",
     "shell.execute_reply.started": "2023-01-29T12:44:26.561289Z"
    }
   },
   "outputs": [
    {
     "name": "stdout",
     "output_type": "stream",
     "text": [
      "Creating...7.jpg\n",
      "Found 1 images belonging to 1 classes.\n",
      "1/1 [==============================] - 4s 4s/step\n",
      "safe\n",
      "Creating...8.jpg\n",
      "Found 1 images belonging to 1 classes.\n",
      "1/1 [==============================] - 0s 104ms/step\n",
      "alertttt\n",
      "Creating...9.jpg\n",
      "Found 1 images belonging to 1 classes.\n",
      "1/1 [==============================] - 0s 105ms/step\n",
      "safe\n",
      "Creating...10.jpg\n",
      "Found 1 images belonging to 1 classes.\n",
      "1/1 [==============================] - 0s 104ms/step\n",
      "safe\n",
      "Creating...11.jpg\n",
      "Found 1 images belonging to 1 classes.\n",
      "1/1 [==============================] - 0s 108ms/step\n",
      "safe\n",
      "Creating...12.jpg\n",
      "Found 1 images belonging to 1 classes.\n",
      "1/1 [==============================] - 0s 98ms/step\n",
      "safe\n",
      "Creating...13.jpg\n",
      "Found 1 images belonging to 1 classes.\n",
      "1/1 [==============================] - 0s 97ms/step\n",
      "safe\n",
      "Creating...14.jpg\n",
      "Found 1 images belonging to 1 classes.\n",
      "1/1 [==============================] - 0s 95ms/step\n",
      "safe\n",
      "Creating...15.jpg\n",
      "Found 1 images belonging to 1 classes.\n",
      "1/1 [==============================] - 0s 103ms/step\n",
      "safe\n",
      "Creating...16.jpg\n",
      "Found 1 images belonging to 1 classes.\n",
      "1/1 [==============================] - 0s 99ms/step\n",
      "safe\n",
      "Creating...17.jpg\n",
      "Found 1 images belonging to 1 classes.\n",
      "1/1 [==============================] - 0s 104ms/step\n",
      "alertttt\n",
      "Creating...18.jpg\n",
      "Found 1 images belonging to 1 classes.\n",
      "1/1 [==============================] - 0s 101ms/step\n",
      "alertttt\n",
      "Creating...19.jpg\n",
      "Found 1 images belonging to 1 classes.\n",
      "1/1 [==============================] - 0s 98ms/step\n",
      "safe\n",
      "Creating...20.jpg\n",
      "Found 1 images belonging to 1 classes.\n",
      "1/1 [==============================] - 0s 102ms/step\n",
      "safe\n",
      "Creating...21.jpg\n",
      "Found 1 images belonging to 1 classes.\n",
      "1/1 [==============================] - 0s 105ms/step\n",
      "safe\n",
      "Creating...22.jpg\n",
      "Found 1 images belonging to 1 classes.\n",
      "1/1 [==============================] - 0s 101ms/step\n",
      "alertttt\n",
      "Creating...23.jpg\n",
      "Found 1 images belonging to 1 classes.\n",
      "1/1 [==============================] - 0s 101ms/step\n",
      "alertttt\n",
      "Creating...24.jpg\n",
      "Found 1 images belonging to 1 classes.\n",
      "1/1 [==============================] - 0s 105ms/step\n",
      "alertttt\n",
      "Creating...25.jpg\n",
      "Found 1 images belonging to 1 classes.\n",
      "1/1 [==============================] - 0s 103ms/step\n",
      "alertttt\n",
      "Creating...26.jpg\n",
      "Found 1 images belonging to 1 classes.\n",
      "1/1 [==============================] - 0s 102ms/step\n",
      "alertttt\n",
      "Creating...27.jpg\n",
      "Found 1 images belonging to 1 classes.\n",
      "1/1 [==============================] - 0s 98ms/step\n",
      "alertttt\n",
      "Creating...28.jpg\n",
      "Found 1 images belonging to 1 classes.\n",
      "1/1 [==============================] - 0s 184ms/step\n",
      "alertttt\n",
      "Creating...29.jpg\n",
      "Found 1 images belonging to 1 classes.\n",
      "1/1 [==============================] - 0s 96ms/step\n",
      "safe\n",
      "Creating...30.jpg\n",
      "Found 1 images belonging to 1 classes.\n",
      "1/1 [==============================] - 0s 99ms/step\n",
      "alertttt\n",
      "Creating...31.jpg\n",
      "Found 1 images belonging to 1 classes.\n",
      "1/1 [==============================] - 0s 100ms/step\n",
      "safe\n",
      "Creating...32.jpg\n",
      "Found 1 images belonging to 1 classes.\n",
      "1/1 [==============================] - 0s 97ms/step\n",
      "alertttt\n",
      "Creating...33.jpg\n",
      "Found 1 images belonging to 1 classes.\n",
      "1/1 [==============================] - 0s 107ms/step\n",
      "alertttt\n",
      "Creating...34.jpg\n",
      "Found 1 images belonging to 1 classes.\n",
      "1/1 [==============================] - 0s 99ms/step\n",
      "alertttt\n",
      "Creating...35.jpg\n",
      "Found 1 images belonging to 1 classes.\n",
      "1/1 [==============================] - 0s 98ms/step\n",
      "safe\n",
      "Creating...36.jpg\n",
      "Found 1 images belonging to 1 classes.\n",
      "1/1 [==============================] - 0s 108ms/step\n",
      "alertttt\n",
      "Creating...37.jpg\n",
      "Found 1 images belonging to 1 classes.\n",
      "1/1 [==============================] - 0s 99ms/step\n",
      "alertttt\n",
      "Creating...38.jpg\n",
      "Found 1 images belonging to 1 classes.\n",
      "1/1 [==============================] - 0s 100ms/step\n",
      "alertttt\n",
      "Creating...39.jpg\n",
      "Found 1 images belonging to 1 classes.\n",
      "1/1 [==============================] - 0s 122ms/step\n",
      "alertttt\n",
      "Creating...40.jpg\n",
      "Found 1 images belonging to 1 classes.\n",
      "1/1 [==============================] - 0s 109ms/step\n",
      "alertttt\n",
      "Creating...41.jpg\n",
      "Found 1 images belonging to 1 classes.\n",
      "1/1 [==============================] - 0s 101ms/step\n",
      "alertttt\n",
      "Creating...42.jpg\n",
      "Found 1 images belonging to 1 classes.\n",
      "1/1 [==============================] - 0s 102ms/step\n",
      "alertttt\n",
      "Creating...43.jpg\n",
      "Found 1 images belonging to 1 classes.\n",
      "1/1 [==============================] - 0s 103ms/step\n",
      "safe\n",
      "Creating...44.jpg\n",
      "Found 1 images belonging to 1 classes.\n",
      "1/1 [==============================] - 0s 101ms/step\n",
      "alertttt\n",
      "Creating...45.jpg\n",
      "Found 1 images belonging to 1 classes.\n",
      "1/1 [==============================] - 0s 109ms/step\n",
      "alertttt\n",
      "Creating...46.jpg\n",
      "Found 1 images belonging to 1 classes.\n",
      "1/1 [==============================] - 0s 100ms/step\n",
      "alertttt\n",
      "Creating...47.jpg\n",
      "Found 1 images belonging to 1 classes.\n",
      "1/1 [==============================] - 0s 112ms/step\n",
      "alertttt\n",
      "Creating...48.jpg\n",
      "Found 1 images belonging to 1 classes.\n",
      "1/1 [==============================] - 0s 107ms/step\n",
      "alertttt\n",
      "Creating...49.jpg\n",
      "Found 1 images belonging to 1 classes.\n",
      "1/1 [==============================] - 0s 99ms/step\n",
      "alertttt\n",
      "Creating...50.jpg\n",
      "Found 1 images belonging to 1 classes.\n",
      "1/1 [==============================] - 0s 103ms/step\n",
      "alertttt\n",
      "Creating...51.jpg\n",
      "Found 1 images belonging to 1 classes.\n",
      "1/1 [==============================] - 0s 115ms/step\n",
      "alertttt\n",
      "Creating...52.jpg\n",
      "Found 1 images belonging to 1 classes.\n",
      "1/1 [==============================] - 0s 118ms/step\n",
      "alertttt\n",
      "Creating...53.jpg\n",
      "Found 1 images belonging to 1 classes.\n",
      "1/1 [==============================] - 0s 105ms/step\n",
      "alertttt\n",
      "Creating...54.jpg\n",
      "Found 1 images belonging to 1 classes.\n",
      "1/1 [==============================] - 0s 114ms/step\n",
      "alertttt\n",
      "Creating...55.jpg\n",
      "Found 1 images belonging to 1 classes.\n",
      "1/1 [==============================] - 0s 103ms/step\n",
      "alertttt\n",
      "Creating...56.jpg\n",
      "Found 1 images belonging to 1 classes.\n",
      "1/1 [==============================] - 0s 103ms/step\n",
      "alertttt\n",
      "Creating...57.jpg\n",
      "Found 1 images belonging to 1 classes.\n",
      "1/1 [==============================] - 0s 101ms/step\n",
      "alertttt\n",
      "Creating...58.jpg\n",
      "Found 1 images belonging to 1 classes.\n",
      "1/1 [==============================] - 0s 106ms/step\n",
      "alertttt\n",
      "Creating...59.jpg\n",
      "Found 1 images belonging to 1 classes.\n",
      "1/1 [==============================] - 0s 100ms/step\n",
      "alertttt\n",
      "Creating...60.jpg\n",
      "Found 1 images belonging to 1 classes.\n",
      "1/1 [==============================] - 0s 104ms/step\n",
      "alertttt\n"
     ]
    },
    {
     "ename": "KeyboardInterrupt",
     "evalue": "",
     "output_type": "error",
     "traceback": [
      "\u001b[1;31m---------------------------------------------------------------------------\u001b[0m",
      "\u001b[1;31mKeyboardInterrupt\u001b[0m                         Traceback (most recent call last)",
      "\u001b[1;32m~\\AppData\\Local\\Temp\\ipykernel_2876\\1182791312.py\u001b[0m in \u001b[0;36m<module>\u001b[1;34m\u001b[0m\n\u001b[0;32m     27\u001b[0m         \u001b[1;32mcontinue\u001b[0m\u001b[1;33m\u001b[0m\u001b[1;33m\u001b[0m\u001b[0m\n\u001b[0;32m     28\u001b[0m     \u001b[0mi\u001b[0m \u001b[1;33m+=\u001b[0m \u001b[1;36m1\u001b[0m\u001b[1;33m\u001b[0m\u001b[1;33m\u001b[0m\u001b[0m\n\u001b[1;32m---> 29\u001b[1;33m     \u001b[1;32mif\u001b[0m \u001b[0mcv2\u001b[0m\u001b[1;33m.\u001b[0m\u001b[0mwaitKey\u001b[0m\u001b[1;33m(\u001b[0m\u001b[1;36m1\u001b[0m\u001b[1;33m)\u001b[0m \u001b[1;33m&\u001b[0m \u001b[1;36m0xFF\u001b[0m \u001b[1;33m==\u001b[0m \u001b[0mord\u001b[0m\u001b[1;33m(\u001b[0m\u001b[1;34m'q'\u001b[0m\u001b[1;33m)\u001b[0m\u001b[1;33m:\u001b[0m\u001b[1;33m\u001b[0m\u001b[1;33m\u001b[0m\u001b[0m\n\u001b[0m\u001b[0;32m     30\u001b[0m         \u001b[1;32mbreak\u001b[0m\u001b[1;33m\u001b[0m\u001b[1;33m\u001b[0m\u001b[0m\n\u001b[0;32m     31\u001b[0m \u001b[1;33m\u001b[0m\u001b[0m\n",
      "\u001b[1;31mKeyboardInterrupt\u001b[0m: "
     ]
    }
   ],
   "source": [
    "# cam = cv2.VideoCapture(\"/kaggle/input/distraction-videos/input_video.mp4\")\n",
    "      \n",
    "cam = cv2.VideoCapture(0)\n",
    "\n",
    "\n",
    "if not os.path.exists('./predict'):\n",
    "    os.makedirs('./predict')   \n",
    "\n",
    "# frame\n",
    "currentframe = 0\n",
    "frame_skip = 60\n",
    "i = 0\n",
    "  \n",
    "while(True):\n",
    "\n",
    "    ret,frame = cam.read()\n",
    "    if not ret:\n",
    "        break\n",
    "    if i > frame_skip - 1:\n",
    "        currentframe += 1\n",
    "        name = str(currentframe+6) + '.jpg'\n",
    "        print ('Creating...' + name)\n",
    "        path = './predict'\n",
    "        cv2.imwrite(os.path.join(path , name), frame)\n",
    "        go_to_predict(name)\n",
    "        i = 0\n",
    "        continue\n",
    "    i += 1\n",
    "    if cv2.waitKey(1) & 0xFF == ord('q'):q\n",
    "        break\n",
    "        \n",
    "  \n",
    "cam.release()\n",
    "cv2.destroyAllWindows()\n"
   ]
  },
  {
   "cell_type": "markdown",
   "metadata": {},
   "source": [
    "## preworks"
   ]
  },
  {
   "cell_type": "code",
   "execution_count": 4,
   "metadata": {
    "execution": {
     "iopub.execute_input": "2023-01-28T14:03:40.767799Z",
     "iopub.status.busy": "2023-01-28T14:03:40.766473Z",
     "iopub.status.idle": "2023-01-28T14:03:40.813627Z",
     "shell.execute_reply": "2023-01-28T14:03:40.812420Z",
     "shell.execute_reply.started": "2023-01-28T14:03:40.767727Z"
    }
   },
   "outputs": [],
   "source": [
    "dir = \"../input/state-farm-distracted-driver-detection\"\n",
    "train_dir = os.path.join(dir , 'imgs/train/')\n",
    "test_dir = os.path.join(dir , 'imgs/test/')\n",
    "data = pd.read_csv(os.path.join(dir , 'driver_imgs_list.csv'))"
   ]
  },
  {
   "cell_type": "code",
   "execution_count": 5,
   "metadata": {
    "execution": {
     "iopub.execute_input": "2023-01-28T14:03:43.153967Z",
     "iopub.status.busy": "2023-01-28T14:03:43.153520Z",
     "iopub.status.idle": "2023-01-28T14:03:43.181689Z",
     "shell.execute_reply": "2023-01-28T14:03:43.180286Z",
     "shell.execute_reply.started": "2023-01-28T14:03:43.153914Z"
    }
   },
   "outputs": [
    {
     "data": {
      "text/html": [
       "<div>\n",
       "<style scoped>\n",
       "    .dataframe tbody tr th:only-of-type {\n",
       "        vertical-align: middle;\n",
       "    }\n",
       "\n",
       "    .dataframe tbody tr th {\n",
       "        vertical-align: top;\n",
       "    }\n",
       "\n",
       "    .dataframe thead th {\n",
       "        text-align: right;\n",
       "    }\n",
       "</style>\n",
       "<table border=\"1\" class=\"dataframe\">\n",
       "  <thead>\n",
       "    <tr style=\"text-align: right;\">\n",
       "      <th></th>\n",
       "      <th>subject</th>\n",
       "      <th>classname</th>\n",
       "      <th>img</th>\n",
       "    </tr>\n",
       "  </thead>\n",
       "  <tbody>\n",
       "    <tr>\n",
       "      <th>0</th>\n",
       "      <td>p002</td>\n",
       "      <td>c0</td>\n",
       "      <td>img_44733.jpg</td>\n",
       "    </tr>\n",
       "    <tr>\n",
       "      <th>1</th>\n",
       "      <td>p002</td>\n",
       "      <td>c0</td>\n",
       "      <td>img_72999.jpg</td>\n",
       "    </tr>\n",
       "    <tr>\n",
       "      <th>2</th>\n",
       "      <td>p002</td>\n",
       "      <td>c0</td>\n",
       "      <td>img_25094.jpg</td>\n",
       "    </tr>\n",
       "    <tr>\n",
       "      <th>3</th>\n",
       "      <td>p002</td>\n",
       "      <td>c0</td>\n",
       "      <td>img_69092.jpg</td>\n",
       "    </tr>\n",
       "    <tr>\n",
       "      <th>4</th>\n",
       "      <td>p002</td>\n",
       "      <td>c0</td>\n",
       "      <td>img_92629.jpg</td>\n",
       "    </tr>\n",
       "  </tbody>\n",
       "</table>\n",
       "</div>"
      ],
      "text/plain": [
       "  subject classname            img\n",
       "0    p002        c0  img_44733.jpg\n",
       "1    p002        c0  img_72999.jpg\n",
       "2    p002        c0  img_25094.jpg\n",
       "3    p002        c0  img_69092.jpg\n",
       "4    p002        c0  img_92629.jpg"
      ]
     },
     "execution_count": 5,
     "metadata": {},
     "output_type": "execute_result"
    }
   ],
   "source": [
    "data.head()"
   ]
  },
  {
   "cell_type": "code",
   "execution_count": 6,
   "metadata": {
    "execution": {
     "iopub.execute_input": "2023-01-28T14:03:43.458373Z",
     "iopub.status.busy": "2023-01-28T14:03:43.457123Z",
     "iopub.status.idle": "2023-01-28T14:03:43.760518Z",
     "shell.execute_reply": "2023-01-28T14:03:43.759607Z",
     "shell.execute_reply.started": "2023-01-28T14:03:43.458312Z"
    }
   },
   "outputs": [
    {
     "data": {
      "text/plain": [
       "<AxesSubplot:>"
      ]
     },
     "execution_count": 6,
     "metadata": {},
     "output_type": "execute_result"
    },
    {
     "data": {
      "image/png": "[encoded data removed]",
      "text/plain": [
       "<Figure size 432x288 with 1 Axes>"
      ]
     },
     "metadata": {
      "needs_background": "light"
     },
     "output_type": "display_data"
    }
   ],
   "source": [
    "class_counts = data.classname.value_counts()\n",
    "\n",
    "class_counts.plot(kind = 'bar')"
   ]
  },
  {
   "cell_type": "code",
   "execution_count": 7,
   "metadata": {
    "execution": {
     "iopub.execute_input": "2023-01-28T14:03:43.778292Z",
     "iopub.status.busy": "2023-01-28T14:03:43.777565Z",
     "iopub.status.idle": "2023-01-28T14:03:43.782399Z",
     "shell.execute_reply": "2023-01-28T14:03:43.781476Z",
     "shell.execute_reply.started": "2023-01-28T14:03:43.778250Z"
    }
   },
   "outputs": [],
   "source": [
    "IMG_SIZE = (224 ,224)\n",
    "BATCH_SIZE = 64"
   ]
  },
  {
   "cell_type": "code",
   "execution_count": 8,
   "metadata": {
    "execution": {
     "iopub.execute_input": "2023-01-28T14:03:44.558422Z",
     "iopub.status.busy": "2023-01-28T14:03:44.557685Z",
     "iopub.status.idle": "2023-01-28T14:03:44.565713Z",
     "shell.execute_reply": "2023-01-28T14:03:44.564531Z",
     "shell.execute_reply.started": "2023-01-28T14:03:44.558367Z"
    }
   },
   "outputs": [],
   "source": [
    "train_gen = ImageDataGenerator(width_shift_range = 0.3,\n",
    "                               height_shift_range = 0.3,\n",
    "                               shear_range = 0.3,\n",
    "                               zoom_range = 0.4,\n",
    "                               validation_split = 0.2)\n",
    "\n",
    "test_gen = ImageDataGenerator()"
   ]
  },
  {
   "cell_type": "code",
   "execution_count": 9,
   "metadata": {
    "execution": {
     "iopub.execute_input": "2023-01-28T14:03:44.971126Z",
     "iopub.status.busy": "2023-01-28T14:03:44.970686Z",
     "iopub.status.idle": "2023-01-28T14:03:53.052752Z",
     "shell.execute_reply": "2023-01-28T14:03:53.051172Z",
     "shell.execute_reply.started": "2023-01-28T14:03:44.971082Z"
    }
   },
   "outputs": [
    {
     "name": "stdout",
     "output_type": "stream",
     "text": [
      "Found 17943 images belonging to 10 classes.\n"
     ]
    }
   ],
   "source": [
    "train_data = train_gen.flow_from_directory(train_dir,\n",
    "                                         target_size=IMG_SIZE,\n",
    "                                         batch_size=BATCH_SIZE,\n",
    "                                         subset='training',\n",
    "                                         seed = 42)"
   ]
  },
  {
   "cell_type": "code",
   "execution_count": 10,
   "metadata": {
    "execution": {
     "iopub.execute_input": "2023-01-28T14:03:57.654037Z",
     "iopub.status.busy": "2023-01-28T14:03:57.652797Z",
     "iopub.status.idle": "2023-01-28T14:04:02.800467Z",
     "shell.execute_reply": "2023-01-28T14:04:02.799469Z",
     "shell.execute_reply.started": "2023-01-28T14:03:57.653974Z"
    }
   },
   "outputs": [
    {
     "name": "stdout",
     "output_type": "stream",
     "text": [
      "Found 4481 images belonging to 10 classes.\n"
     ]
    }
   ],
   "source": [
    "val_data = train_gen.flow_from_directory(train_dir,\n",
    "                                         target_size=IMG_SIZE,\n",
    "                                         batch_size=BATCH_SIZE,\n",
    "                                         subset='validation',\n",
    "                                         seed = 42)"
   ]
  },
  {
   "cell_type": "code",
   "execution_count": 11,
   "metadata": {
    "execution": {
     "iopub.execute_input": "2023-01-28T14:04:05.049918Z",
     "iopub.status.busy": "2023-01-28T14:04:05.049447Z",
     "iopub.status.idle": "2023-01-28T14:04:05.058160Z",
     "shell.execute_reply": "2023-01-28T14:04:05.056843Z",
     "shell.execute_reply.started": "2023-01-28T14:04:05.049859Z"
    }
   },
   "outputs": [],
   "source": [
    "def model(num_class):\n",
    "    inputs = Input(shape=(224,224,3))\n",
    "    base = EfficientNetB3(include_top = False,\n",
    "                         weights='imagenet')(inputs)\n",
    "    x = GlobalAveragePooling2D()(base)\n",
    "    x = BatchNormalization()(x)\n",
    "    x = Dropout(0.2)(x)\n",
    "    outputs = Dense(num_class , activation='softmax')(x)\n",
    "    \n",
    "    model = Model(inputs = inputs , outputs = outputs)\n",
    "    model.compile(loss = 'categorical_crossentropy',\n",
    "                 optimizer = tf.optimizers.Adam(1e-4),\n",
    "                 metrics = ['accuracy'])\n",
    "    return model"
   ]
  },
  {
   "cell_type": "code",
   "execution_count": 12,
   "metadata": {
    "execution": {
     "iopub.execute_input": "2023-01-28T14:04:08.347962Z",
     "iopub.status.busy": "2023-01-28T14:04:08.347238Z",
     "iopub.status.idle": "2023-01-28T14:04:08.354222Z",
     "shell.execute_reply": "2023-01-28T14:04:08.353005Z",
     "shell.execute_reply.started": "2023-01-28T14:04:08.347910Z"
    }
   },
   "outputs": [
    {
     "data": {
      "text/plain": [
       "10"
      ]
     },
     "execution_count": 12,
     "metadata": {},
     "output_type": "execute_result"
    }
   ],
   "source": [
    "num_class = len(class_counts )\n",
    "num_class"
   ]
  },
  {
   "cell_type": "code",
   "execution_count": 13,
   "metadata": {
    "execution": {
     "iopub.execute_input": "2023-01-28T14:04:08.831267Z",
     "iopub.status.busy": "2023-01-28T14:04:08.830859Z",
     "iopub.status.idle": "2023-01-28T14:04:13.733805Z",
     "shell.execute_reply": "2023-01-28T14:04:13.732461Z",
     "shell.execute_reply.started": "2023-01-28T14:04:08.831233Z"
    }
   },
   "outputs": [
    {
     "name": "stderr",
     "output_type": "stream",
     "text": [
      "2023-01-28 14:04:08.899223: I tensorflow/core/common_runtime/process_util.cc:146] Creating new thread pool with default inter op setting: 2. Tune using inter_op_parallelism_threads for best performance.\n"
     ]
    },
    {
     "name": "stdout",
     "output_type": "stream",
     "text": [
      "Downloading data from https://storage.googleapis.com/keras-applications/efficientnetb3_notop.h5\n",
      "43941888/43941136 [==============================] - 0s 0us/step\n",
      "43950080/43941136 [==============================] - 0s 0us/step\n",
      "Model: \"model\"\n",
      "_________________________________________________________________\n",
      "Layer (type)                 Output Shape              Param #   \n",
      "=================================================================\n",
      "input_1 (InputLayer)         [(None, 224, 224, 3)]     0         \n",
      "_________________________________________________________________\n",
      "efficientnetb3 (Functional)  (None, None, None, 1536)  10783535  \n",
      "_________________________________________________________________\n",
      "global_average_pooling2d (Gl (None, 1536)              0         \n",
      "_________________________________________________________________\n",
      "batch_normalization (BatchNo (None, 1536)              6144      \n",
      "_________________________________________________________________\n",
      "dropout (Dropout)            (None, 1536)              0         \n",
      "_________________________________________________________________\n",
      "dense (Dense)                (None, 10)                15370     \n",
      "=================================================================\n",
      "Total params: 10,805,049\n",
      "Trainable params: 10,714,674\n",
      "Non-trainable params: 90,375\n",
      "_________________________________________________________________\n"
     ]
    }
   ],
   "source": [
    "model = model(num_class)\n",
    "model.summary()"
   ]
  },
  {
   "cell_type": "code",
   "execution_count": 14,
   "metadata": {
    "execution": {
     "iopub.execute_input": "2023-01-28T14:04:19.201412Z",
     "iopub.status.busy": "2023-01-28T14:04:19.200663Z",
     "iopub.status.idle": "2023-01-28T14:04:19.207133Z",
     "shell.execute_reply": "2023-01-28T14:04:19.205899Z",
     "shell.execute_reply.started": "2023-01-28T14:04:19.201374Z"
    }
   },
   "outputs": [],
   "source": [
    "ck = ModelCheckpoint('best_model.hdf5' , save_best_only=True,monitor='val_loss',mode='min')\n",
    "es = EarlyStopping(monitor = 'val_loss', patience = 5)\n"
   ]
  },
  {
   "cell_type": "code",
   "execution_count": 15,
   "metadata": {
    "execution": {
     "iopub.execute_input": "2023-01-28T14:04:37.803560Z",
     "iopub.status.busy": "2023-01-28T14:04:37.803152Z",
     "iopub.status.idle": "2023-01-28T14:04:37.812055Z",
     "shell.execute_reply": "2023-01-28T14:04:37.810532Z",
     "shell.execute_reply.started": "2023-01-28T14:04:37.803529Z"
    }
   },
   "outputs": [
    {
     "name": "stdout",
     "output_type": "stream",
     "text": [
      "[name: \"/device:CPU:0\"\n",
      "device_type: \"CPU\"\n",
      "memory_limit: 268435456\n",
      "locality {\n",
      "}\n",
      "incarnation: 15583424321166756029\n",
      "]\n"
     ]
    }
   ],
   "source": [
    "from tensorflow.python.client import device_lib \n",
    "print(device_lib.list_local_devices())"
   ]
  },
  {
   "cell_type": "code",
   "execution_count": 16,
   "metadata": {
    "execution": {
     "iopub.execute_input": "2023-01-28T14:05:43.465234Z",
     "iopub.status.busy": "2023-01-28T14:05:43.464812Z",
     "iopub.status.idle": "2023-01-28T14:05:43.473407Z",
     "shell.execute_reply": "2023-01-28T14:05:43.471779Z",
     "shell.execute_reply.started": "2023-01-28T14:05:43.465201Z"
    }
   },
   "outputs": [
    {
     "data": {
      "text/plain": [
       "[]"
      ]
     },
     "execution_count": 16,
     "metadata": {},
     "output_type": "execute_result"
    }
   ],
   "source": [
    " tf.config.list_physical_devices('GPU')"
   ]
  },
  {
   "cell_type": "code",
   "execution_count": 17,
   "metadata": {
    "execution": {
     "iopub.execute_input": "2023-01-28T14:05:43.827980Z",
     "iopub.status.busy": "2023-01-28T14:05:43.827552Z",
     "iopub.status.idle": "2023-01-28T14:05:43.834363Z",
     "shell.execute_reply": "2023-01-28T14:05:43.832915Z",
     "shell.execute_reply.started": "2023-01-28T14:05:43.827919Z"
    }
   },
   "outputs": [
    {
     "name": "stdout",
     "output_type": "stream",
     "text": [
      "Num GPUs Available:  0\n"
     ]
    }
   ],
   "source": [
    "print(\"Num GPUs Available: \", len(tf.config.list_physical_devices('GPU')))"
   ]
  },
  {
   "cell_type": "code",
   "execution_count": null,
   "metadata": {
    "execution": {
     "iopub.execute_input": "2023-01-28T14:05:44.424672Z",
     "iopub.status.busy": "2023-01-28T14:05:44.424272Z"
    }
   },
   "outputs": [
    {
     "name": "stderr",
     "output_type": "stream",
     "text": [
      "2023-01-28 14:05:45.917076: I tensorflow/compiler/mlir/mlir_graph_optimization_pass.cc:185] None of the MLIR Optimization Passes are enabled (registered 2)\n"
     ]
    },
    {
     "name": "stdout",
     "output_type": "stream",
     "text": [
      "Epoch 1/5\n",
      "281/281 [==============================] - 3185s 11s/step - loss: 0.9058 - accuracy: 0.7089 - val_loss: 0.2278 - val_accuracy: 0.9389\n"
     ]
    },
    {
     "name": "stderr",
     "output_type": "stream",
     "text": [
      "/opt/conda/lib/python3.7/site-packages/keras/utils/generic_utils.py:497: CustomMaskWarning: Custom mask layers require a config and must override get_config. When loading, the custom mask layer must be passed to the custom_objects argument.\n",
      "  category=CustomMaskWarning)\n"
     ]
    },
    {
     "name": "stdout",
     "output_type": "stream",
     "text": [
      "Epoch 2/5\n",
      "281/281 [==============================] - 3158s 11s/step - loss: 0.1998 - accuracy: 0.9364 - val_loss: 0.1210 - val_accuracy: 0.9612\n",
      "Epoch 3/5\n",
      "281/281 [==============================] - 3146s 11s/step - loss: 0.1264 - accuracy: 0.9604 - val_loss: 0.0813 - val_accuracy: 0.9757\n",
      "Epoch 4/5\n",
      "281/281 [==============================] - 3146s 11s/step - loss: 0.0907 - accuracy: 0.9713 - val_loss: 0.0606 - val_accuracy: 0.9808\n",
      "Epoch 5/5\n",
      "124/281 [============>.................] - ETA: 27:05 - loss: 0.0821 - accuracy: 0.9752"
     ]
    }
   ],
   "source": [
    "history = model.fit(train_data , \n",
    "                   epochs = 5 ,\n",
    "                   validation_data = val_data ,\n",
    "                   callbacks=[es,ck],\n",
    "                   verbose = 1)"
   ]
  },
  {
   "cell_type": "code",
   "execution_count": null,
   "metadata": {},
   "outputs": [],
   "source": [
    "test_dir = os.path.join(dir , 'imgs')\n",
    "test_data = test_gen.flow_from_directory(test_dir ,\n",
    "                                        target_size=IMG_SIZE,\n",
    "                                        batch_size=BATCH_SIZE,\n",
    "                                        classes = ['test'],\n",
    "                                        shuffle = False)\n"
   ]
  }
 ],
 "metadata": {
  "kernelspec": {
   "display_name": "Python 3 (ipykernel)",
   "language": "python",
   "name": "python3"
  },
  "language_info": {
   "codemirror_mode": {
    "name": "ipython",
    "version": 3
   },
   "file_extension": ".py",
   "mimetype": "text/x-python",
   "name": "python",
   "nbconvert_exporter": "python",
   "pygments_lexer": "ipython3",
   "version": "3.9.13"
  }
 },
 "nbformat": 4,
 "nbformat_minor": 4
}
